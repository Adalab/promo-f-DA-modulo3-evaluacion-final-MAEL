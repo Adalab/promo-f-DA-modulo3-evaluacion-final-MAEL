{
 "cells": [
  {
   "cell_type": "code",
   "execution_count": 2,
   "metadata": {},
   "outputs": [],
   "source": [
    "# Tratamiento de datos\n",
    "# -----------------------------------------------------------------------\n",
    "import pandas as pd\n",
    "import numpy as np\n",
    "\n",
    "# Visualización\n",
    "# ------------------------------------------------------------------------------\n",
    "import matplotlib.pyplot as plt\n",
    "import seaborn as sns\n",
    "\n",
    "# Evaluar linealidad de las relaciones entre las variables\n",
    "# y la distribución de las variables\n",
    "# ------------------------------------------------------------------------------\n",
    "import scipy.stats as stats\n",
    "\n",
    "# Configuración\n",
    "# -----------------------------------------------------------------------\n",
    "pd.set_option('display.max_columns', None) # para poder visualizar todas las columnas de los DataFrames\n",
    "\n",
    "# Gestión de los warnings\n",
    "# -----------------------------------------------------------------------\n",
    "import warnings\n",
    "warnings.filterwarnings(\"ignore\")"
   ]
  },
  {
   "cell_type": "code",
   "execution_count": 3,
   "metadata": {},
   "outputs": [],
   "source": [
    "# Imputación de nulos usando métodos avanzados estadísticos\n",
    "# -----------------------------------------------------------------------\n",
    "from sklearn.impute import SimpleImputer\n",
    "from sklearn.experimental import enable_iterative_imputer\n",
    "from sklearn.impute import IterativeImputer\n",
    "from sklearn.impute import KNNImputer\n",
    "\n",
    "# Librerías de visualización\n",
    "# -----------------------------------------------------------------------\n",
    "import seaborn as sns\n",
    "import matplotlib.pyplot as plt\n",
    "# Configuración\n",
    "# -----------------------------------------------------------------------\n",
    "pd.set_option('display.max_columns', None) # para poder visualizar todas las columnas de los DataFrames"
   ]
  },
  {
   "cell_type": "code",
   "execution_count": 5,
   "metadata": {},
   "outputs": [
    {
     "name": "stdout",
     "output_type": "stream",
     "text": [
      "<class 'pandas.core.frame.DataFrame'>\n",
      "RangeIndex: 16737 entries, 0 to 16736\n",
      "Data columns (total 16 columns):\n",
      " #   Column              Non-Null Count  Dtype  \n",
      "---  ------              --------------  -----  \n",
      " 0   Loyalty Number      16737 non-null  int64  \n",
      " 1   Country             16737 non-null  object \n",
      " 2   Province            16737 non-null  object \n",
      " 3   City                16737 non-null  object \n",
      " 4   Postal Code         16737 non-null  object \n",
      " 5   Gender              16737 non-null  object \n",
      " 6   Education           16737 non-null  object \n",
      " 7   Salary              12499 non-null  float64\n",
      " 8   Marital Status      16737 non-null  object \n",
      " 9   Loyalty Card        16737 non-null  object \n",
      " 10  CLV                 16737 non-null  float64\n",
      " 11  Enrollment Type     16737 non-null  object \n",
      " 12  Enrollment Year     16737 non-null  int64  \n",
      " 13  Enrollment Month    16737 non-null  int64  \n",
      " 14  Cancellation Year   2067 non-null   float64\n",
      " 15  Cancellation Month  2067 non-null   float64\n",
      "dtypes: float64(4), int64(3), object(9)\n",
      "memory usage: 2.0+ MB\n"
     ]
    }
   ],
   "source": [
    "df1 = pd.read_csv('Customer Loyalty History.csv')\n",
    "df1.info()"
   ]
  },
  {
   "cell_type": "code",
   "execution_count": 6,
   "metadata": {},
   "outputs": [
    {
     "name": "stdout",
     "output_type": "stream",
     "text": [
      "<class 'pandas.core.frame.DataFrame'>\n",
      "RangeIndex: 405624 entries, 0 to 405623\n",
      "Data columns (total 10 columns):\n",
      " #   Column                       Non-Null Count   Dtype  \n",
      "---  ------                       --------------   -----  \n",
      " 0   Loyalty Number               405624 non-null  int64  \n",
      " 1   Year                         405624 non-null  int64  \n",
      " 2   Month                        405624 non-null  int64  \n",
      " 3   Flights Booked               405624 non-null  int64  \n",
      " 4   Flights with Companions      405624 non-null  int64  \n",
      " 5   Total Flights                405624 non-null  int64  \n",
      " 6   Distance                     405624 non-null  int64  \n",
      " 7   Points Accumulated           405624 non-null  float64\n",
      " 8   Points Redeemed              405624 non-null  int64  \n",
      " 9   Dollar Cost Points Redeemed  405624 non-null  int64  \n",
      "dtypes: float64(1), int64(9)\n",
      "memory usage: 30.9 MB\n"
     ]
    }
   ],
   "source": [
    "df2 = pd.read_csv('Customer Flight Activity.csv', )\n",
    "df2.head(10)\n",
    "df2.info()"
   ]
  },
  {
   "cell_type": "code",
   "execution_count": 7,
   "metadata": {},
   "outputs": [],
   "source": [
    "\n",
    "df3 = pd.merge(df1, df2, on='Loyalty Number')\n",
    "\n",
    "# Guarda el resultado en un nuevo archivo CSV\n",
    "df3.to_csv('archivo_combinado.csv')\n",
    "\n"
   ]
  },
  {
   "cell_type": "code",
   "execution_count": 8,
   "metadata": {},
   "outputs": [
    {
     "data": {
      "text/html": [
       "<div>\n",
       "<style scoped>\n",
       "    .dataframe tbody tr th:only-of-type {\n",
       "        vertical-align: middle;\n",
       "    }\n",
       "\n",
       "    .dataframe tbody tr th {\n",
       "        vertical-align: top;\n",
       "    }\n",
       "\n",
       "    .dataframe thead th {\n",
       "        text-align: right;\n",
       "    }\n",
       "</style>\n",
       "<table border=\"1\" class=\"dataframe\">\n",
       "  <thead>\n",
       "    <tr style=\"text-align: right;\">\n",
       "      <th></th>\n",
       "      <th>%_nulos</th>\n",
       "    </tr>\n",
       "  </thead>\n",
       "  <tbody>\n",
       "    <tr>\n",
       "      <th>Salary</th>\n",
       "      <td>25.312112</td>\n",
       "    </tr>\n",
       "    <tr>\n",
       "      <th>Cancellation Year</th>\n",
       "      <td>87.657535</td>\n",
       "    </tr>\n",
       "    <tr>\n",
       "      <th>Cancellation Month</th>\n",
       "      <td>87.657535</td>\n",
       "    </tr>\n",
       "  </tbody>\n",
       "</table>\n",
       "</div>"
      ],
      "text/plain": [
       "                      %_nulos\n",
       "Salary              25.312112\n",
       "Cancellation Year   87.657535\n",
       "Cancellation Month  87.657535"
      ]
     },
     "execution_count": 8,
     "metadata": {},
     "output_type": "execute_result"
    }
   ],
   "source": [
    "df_nulos = pd.DataFrame((df3.isnull().sum() / df3.shape[0]) * 100, columns = [\"%_nulos\"])\n",
    "\n",
    "# filtramos el DataFrame para quedarnos solo con aquellas columnas que tengan nulos\n",
    "df_nulos[df_nulos[\"%_nulos\"] > 0]"
   ]
  },
  {
   "cell_type": "code",
   "execution_count": 9,
   "metadata": {},
   "outputs": [],
   "source": [
    "df3.drop(\"Cancellation Year\", axis=1, inplace = True)"
   ]
  },
  {
   "cell_type": "code",
   "execution_count": 10,
   "metadata": {},
   "outputs": [],
   "source": [
    "df3.drop(\"Cancellation Month\", axis=1, inplace = True)"
   ]
  },
  {
   "cell_type": "code",
   "execution_count": 11,
   "metadata": {},
   "outputs": [
    {
     "data": {
      "text/plain": [
       "array([ 83236.,     nan, 103495., ...,  76178.,  91970., -57297.])"
      ]
     },
     "execution_count": 11,
     "metadata": {},
     "output_type": "execute_result"
    }
   ],
   "source": [
    "df3[\"Salary\"].unique()"
   ]
  },
  {
   "cell_type": "code",
   "execution_count": 12,
   "metadata": {},
   "outputs": [
    {
     "data": {
      "text/plain": [
       "Loyalty Number                      0\n",
       "Country                             0\n",
       "Province                            0\n",
       "City                                0\n",
       "Postal Code                         0\n",
       "Gender                              0\n",
       "Education                           0\n",
       "Salary                         102672\n",
       "Marital Status                      0\n",
       "Loyalty Card                        0\n",
       "CLV                                 0\n",
       "Enrollment Type                     0\n",
       "Enrollment Year                     0\n",
       "Enrollment Month                    0\n",
       "Year                                0\n",
       "Month                               0\n",
       "Flights Booked                      0\n",
       "Flights with Companions             0\n",
       "Total Flights                       0\n",
       "Distance                            0\n",
       "Points Accumulated                  0\n",
       "Points Redeemed                     0\n",
       "Dollar Cost Points Redeemed         0\n",
       "dtype: int64"
      ]
     },
     "execution_count": 12,
     "metadata": {},
     "output_type": "execute_result"
    }
   ],
   "source": [
    "df3.isnull().sum()"
   ]
  },
  {
   "cell_type": "code",
   "execution_count": 13,
   "metadata": {},
   "outputs": [
    {
     "data": {
      "text/plain": [
       "Loyalty Number                      0\n",
       "Country                             0\n",
       "Province                            0\n",
       "City                                0\n",
       "Postal Code                         0\n",
       "Gender                              0\n",
       "Education                           0\n",
       "Salary                         102672\n",
       "Marital Status                      0\n",
       "Loyalty Card                        0\n",
       "CLV                                 0\n",
       "Enrollment Type                     0\n",
       "Enrollment Year                     0\n",
       "Enrollment Month                    0\n",
       "Year                                0\n",
       "Month                               0\n",
       "Flights Booked                      0\n",
       "Flights with Companions             0\n",
       "Total Flights                       0\n",
       "Distance                            0\n",
       "Points Accumulated                  0\n",
       "Points Redeemed                     0\n",
       "Dollar Cost Points Redeemed         0\n",
       "dtype: int64"
      ]
     },
     "execution_count": 13,
     "metadata": {},
     "output_type": "execute_result"
    }
   ],
   "source": [
    "df3.isnull().sum()"
   ]
  },
  {
   "cell_type": "code",
   "execution_count": 14,
   "metadata": {},
   "outputs": [
    {
     "name": "stdout",
     "output_type": "stream",
     "text": [
      "<class 'pandas.core.frame.DataFrame'>\n",
      "Int64Index: 405624 entries, 0 to 405623\n",
      "Data columns (total 23 columns):\n",
      " #   Column                       Non-Null Count   Dtype  \n",
      "---  ------                       --------------   -----  \n",
      " 0   Loyalty Number               405624 non-null  int64  \n",
      " 1   Country                      405624 non-null  object \n",
      " 2   Province                     405624 non-null  object \n",
      " 3   City                         405624 non-null  object \n",
      " 4   Postal Code                  405624 non-null  object \n",
      " 5   Gender                       405624 non-null  object \n",
      " 6   Education                    405624 non-null  object \n",
      " 7   Salary                       302952 non-null  float64\n",
      " 8   Marital Status               405624 non-null  object \n",
      " 9   Loyalty Card                 405624 non-null  object \n",
      " 10  CLV                          405624 non-null  float64\n",
      " 11  Enrollment Type              405624 non-null  object \n",
      " 12  Enrollment Year              405624 non-null  int64  \n",
      " 13  Enrollment Month             405624 non-null  int64  \n",
      " 14  Year                         405624 non-null  int64  \n",
      " 15  Month                        405624 non-null  int64  \n",
      " 16  Flights Booked               405624 non-null  int64  \n",
      " 17  Flights with Companions      405624 non-null  int64  \n",
      " 18  Total Flights                405624 non-null  int64  \n",
      " 19  Distance                     405624 non-null  int64  \n",
      " 20  Points Accumulated           405624 non-null  float64\n",
      " 21  Points Redeemed              405624 non-null  int64  \n",
      " 22  Dollar Cost Points Redeemed  405624 non-null  int64  \n",
      "dtypes: float64(3), int64(11), object(9)\n",
      "memory usage: 74.3+ MB\n"
     ]
    }
   ],
   "source": [
    "df3.info()"
   ]
  },
  {
   "cell_type": "code",
   "execution_count": 15,
   "metadata": {},
   "outputs": [],
   "source": [
    "def convertir(df3):\n",
    "\n",
    "    \n",
    "    # Itera sobre las columnas y si son de tipo 'object' (strings), las convierte a minúsculas y reemplaza espacios por '_'\n",
    "    for columna in df3.columns:\n",
    "        if df3[columna].dtype == 'object':  # Verifica si la columna es de tipo 'object' (cadena)\n",
    "            df3[columna] = df3[columna].str.lower().str.replace(' ', '_')\n",
    "    \n",
    "    return df3"
   ]
  },
  {
   "cell_type": "code",
   "execution_count": 16,
   "metadata": {},
   "outputs": [],
   "source": [
    "df3.columns = df3.columns.str.lower().str.replace(' ', '_')"
   ]
  },
  {
   "cell_type": "code",
   "execution_count": 17,
   "metadata": {},
   "outputs": [
    {
     "data": {
      "text/plain": [
       "array([ 3839.14,  3839.61,  3839.75, ..., 44771.3 , 50568.26, 61134.68])"
      ]
     },
     "execution_count": 17,
     "metadata": {},
     "output_type": "execute_result"
    }
   ],
   "source": [
    "df3[\"clv\"].unique()"
   ]
  },
  {
   "cell_type": "code",
   "execution_count": 18,
   "metadata": {},
   "outputs": [],
   "source": [
    "df3.rename(columns={\"clv\": \"customer_lifetime_value\"}, inplace=True)"
   ]
  },
  {
   "cell_type": "code",
   "execution_count": 19,
   "metadata": {},
   "outputs": [],
   "source": [
    "df3['salary']=df3['salary'].replace(np.nan, \"desconocido\")"
   ]
  },
  {
   "cell_type": "code",
   "execution_count": 20,
   "metadata": {},
   "outputs": [],
   "source": [
    "df3.rename(columns={\"year\": \"flying_year\"}, inplace=True)"
   ]
  },
  {
   "cell_type": "code",
   "execution_count": 21,
   "metadata": {},
   "outputs": [],
   "source": [
    "df3.rename(columns={\"month\": \"flying_month\"}, inplace=True)"
   ]
  },
  {
   "cell_type": "code",
   "execution_count": 22,
   "metadata": {},
   "outputs": [
    {
     "name": "stdout",
     "output_type": "stream",
     "text": [
      "<class 'pandas.core.frame.DataFrame'>\n",
      "Int64Index: 405624 entries, 0 to 405623\n",
      "Data columns (total 23 columns):\n",
      " #   Column                       Non-Null Count   Dtype  \n",
      "---  ------                       --------------   -----  \n",
      " 0   loyalty_number               405624 non-null  int64  \n",
      " 1   country                      405624 non-null  object \n",
      " 2   province                     405624 non-null  object \n",
      " 3   city                         405624 non-null  object \n",
      " 4   postal_code                  405624 non-null  object \n",
      " 5   gender                       405624 non-null  object \n",
      " 6   education                    405624 non-null  object \n",
      " 7   salary                       405624 non-null  object \n",
      " 8   marital_status               405624 non-null  object \n",
      " 9   loyalty_card                 405624 non-null  object \n",
      " 10  customer_lifetime_value      405624 non-null  float64\n",
      " 11  enrollment_type              405624 non-null  object \n",
      " 12  enrollment_year              405624 non-null  int64  \n",
      " 13  enrollment_month             405624 non-null  int64  \n",
      " 14  flying_year                  405624 non-null  int64  \n",
      " 15  flying_month                 405624 non-null  int64  \n",
      " 16  flights_booked               405624 non-null  int64  \n",
      " 17  flights_with_companions      405624 non-null  int64  \n",
      " 18  total_flights                405624 non-null  int64  \n",
      " 19  distance                     405624 non-null  int64  \n",
      " 20  points_accumulated           405624 non-null  float64\n",
      " 21  points_redeemed              405624 non-null  int64  \n",
      " 22  dollar_cost_points_redeemed  405624 non-null  int64  \n",
      "dtypes: float64(2), int64(11), object(10)\n",
      "memory usage: 74.3+ MB\n"
     ]
    }
   ],
   "source": [
    "df3.info()"
   ]
  },
  {
   "cell_type": "code",
   "execution_count": 23,
   "metadata": {},
   "outputs": [
    {
     "data": {
      "text/plain": [
       "array([83236.0, 'desconocido', 103495.0, ..., 76178.0, 91970.0, -57297.0],\n",
       "      dtype=object)"
      ]
     },
     "execution_count": 23,
     "metadata": {},
     "output_type": "execute_result"
    }
   ],
   "source": [
    "df3[\"salary\"].unique()"
   ]
  },
  {
   "cell_type": "code",
   "execution_count": 24,
   "metadata": {},
   "outputs": [],
   "source": [
    "# Función para convertir valores negativos a positivos\n",
    "def convertir_a_positivo(valor):\n",
    "    if isinstance(valor, (int, float)) and valor < 0:\n",
    "        return abs(valor)\n",
    "    return valor\n",
    "\n",
    "# Aplicar la función a la columna específica del DataFrame\n",
    "df3['salary'] = df3['salary'].apply(convertir_a_positivo)\n",
    "\n"
   ]
  },
  {
   "cell_type": "code",
   "execution_count": 25,
   "metadata": {},
   "outputs": [
    {
     "name": "stdout",
     "output_type": "stream",
     "text": [
      "<class 'pandas.core.frame.DataFrame'>\n",
      "Int64Index: 405624 entries, 0 to 405623\n",
      "Data columns (total 23 columns):\n",
      " #   Column                       Non-Null Count   Dtype  \n",
      "---  ------                       --------------   -----  \n",
      " 0   loyalty_number               405624 non-null  int64  \n",
      " 1   country                      405624 non-null  object \n",
      " 2   province                     405624 non-null  object \n",
      " 3   city                         405624 non-null  object \n",
      " 4   postal_code                  405624 non-null  object \n",
      " 5   gender                       405624 non-null  object \n",
      " 6   education                    405624 non-null  object \n",
      " 7   salary                       405624 non-null  object \n",
      " 8   marital_status               405624 non-null  object \n",
      " 9   loyalty_card                 405624 non-null  object \n",
      " 10  customer_lifetime_value      405624 non-null  float64\n",
      " 11  enrollment_type              405624 non-null  object \n",
      " 12  enrollment_year              405624 non-null  int64  \n",
      " 13  enrollment_month             405624 non-null  int64  \n",
      " 14  flying_year                  405624 non-null  int64  \n",
      " 15  flying_month                 405624 non-null  int64  \n",
      " 16  flights_booked               405624 non-null  int64  \n",
      " 17  flights_with_companions      405624 non-null  int64  \n",
      " 18  total_flights                405624 non-null  int64  \n",
      " 19  distance                     405624 non-null  int64  \n",
      " 20  points_accumulated           405624 non-null  float64\n",
      " 21  points_redeemed              405624 non-null  int64  \n",
      " 22  dollar_cost_points_redeemed  405624 non-null  int64  \n",
      "dtypes: float64(2), int64(11), object(10)\n",
      "memory usage: 74.3+ MB\n"
     ]
    }
   ],
   "source": [
    "df3.info()"
   ]
  },
  {
   "cell_type": "code",
   "execution_count": 26,
   "metadata": {},
   "outputs": [],
   "source": [
    "df3.to_csv(\"datos_vuelos.csv\")"
   ]
  }
 ],
 "metadata": {
  "kernelspec": {
   "display_name": "base",
   "language": "python",
   "name": "python3"
  },
  "language_info": {
   "codemirror_mode": {
    "name": "ipython",
    "version": 3
   },
   "file_extension": ".py",
   "mimetype": "text/x-python",
   "name": "python",
   "nbconvert_exporter": "python",
   "pygments_lexer": "ipython3",
   "version": "3.9.7"
  }
 },
 "nbformat": 4,
 "nbformat_minor": 2
}
